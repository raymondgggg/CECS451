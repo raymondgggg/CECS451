{
 "cells": [
  {
   "cell_type": "code",
   "execution_count": 8,
   "metadata": {},
   "outputs": [
    {
     "name": "stdout",
     "output_type": "stream",
     "text": [
      "3.128\n"
     ]
    }
   ],
   "source": [
    "import math\n",
    "import random\n",
    "import matplotlib.pyplot as plt\n",
    "\n",
    "nPoints = [10**3, 10**4, 10**5, 10**6]\n",
    "\n",
    "\"\"\"takes in point and computes distance from the origin\"\"\"\n",
    "def computeDistance(xy):\n",
    "    return math.sqrt(sum(list(map(lambda val: val**2, xy))))\n",
    "\n",
    "\"\"\"takes in the number of random points and approximates the value of pi \"\"\"\n",
    "def pie(n):\n",
    "    if n != 10**3:\n",
    "        circleCount = 0 \n",
    "        squareCount = 0 \n",
    "        for _ in range(n):\n",
    "            xy = (random.uniform(0,1), random.uniform(0,1))\n",
    "            distance = computeDistance(xy)\n",
    "            if distance < 1:\n",
    "                circleCount += 1\n",
    "            squareCount += 1\n",
    "\n",
    "        return 4 * (circleCount/squareCount)\n",
    "    \n",
    "    # for matplotlib\n",
    "    circleCount = 0\n",
    "    squareCount = 0\n",
    "    circlePoints = [] \n",
    "    squarePoints = []\n",
    "\n",
    "    for _ in range(n):\n",
    "        xy = (random.uniform(0,1), random.uniform(0,1))\n",
    "        distance = computeDistance(xy)\n",
    "        if distance < 1:\n",
    "            circleCount += 1\n",
    "            circlePoints.append(xy)\n",
    "        else:\n",
    "            squareCount += 1\n",
    "            squarePoints.append(xy)\n",
    "    \n",
    "    pie = 4 * (circleCount/squareCount)\n",
    "\n",
    "    return (pie, circlePoints, squarePoints)\n",
    "    \n",
    "\n",
    "\n",
    "\"\"\"for n = 10^4 display the graph of the points\"\"\"\n",
    "def displayPoints():\n",
    "    pass\n",
    "\n",
    "print(pie(10_000))\n"
   ]
  },
  {
   "cell_type": "code",
   "execution_count": null,
   "metadata": {},
   "outputs": [],
   "source": [
    "def main():\n",
    "    pass"
   ]
  }
 ],
 "metadata": {
  "interpreter": {
   "hash": "74bc7867d31406e1692aeac25713e3ae48f9d290b6b0b0546ae54e2a93f219db"
  },
  "kernelspec": {
   "display_name": "Python 3.8.5 ('base')",
   "language": "python",
   "name": "python3"
  },
  "language_info": {
   "codemirror_mode": {
    "name": "ipython",
    "version": 3
   },
   "file_extension": ".py",
   "mimetype": "text/x-python",
   "name": "python",
   "nbconvert_exporter": "python",
   "pygments_lexer": "ipython3",
   "version": "3.8.5"
  },
  "orig_nbformat": 4
 },
 "nbformat": 4,
 "nbformat_minor": 2
}
