{
 "cells": [
  {
   "cell_type": "code",
   "execution_count": 112,
   "metadata": {},
   "outputs": [
    {
     "data": {
      "text/plain": [
       "<module 'matplotlib.pyplot' from '/home/raymond/anaconda3/lib/python3.8/site-packages/matplotlib/pyplot.py'>"
      ]
     },
     "execution_count": 112,
     "metadata": {},
     "output_type": "execute_result"
    },
    {
     "data": {
      "image/png": "[encoded data removed]",
      "text/plain": [
       "<Figure size 432x288 with 1 Axes>"
      ]
     },
     "metadata": {
      "needs_background": "light"
     },
     "output_type": "display_data"
    }
   ],
   "source": [
    "import random\n",
    "import numpy as np\n",
    "\n",
    "num_city = 100\n",
    "num_air = 3\n",
    "num_center = 5\n",
    "sigma = 0.1\n",
    "cities = set()\n",
    "airports = []\n",
    "\n",
    "for i in range(num_center):\n",
    "    x = random.random()\n",
    "    y = random.random()\n",
    "    xc = np.random.normal(x, sigma, num_city//num_center)\n",
    "    yc = np.random.normal(y, sigma, num_city//num_center)\n",
    "    cities = cities.union(zip(xc, yc))\n",
    "\n",
    "\n",
    "for i in range(num_air):\n",
    "    x = random.random()\n",
    "    y = random.random()\n",
    "    airports.append((x,y)) \n",
    "\n",
    "import matplotlib.pyplot as plt\n",
    "\n",
    "zip_cities = zip(*cities)\n",
    "plt.scatter(*zip_cities, marker='+',color='b', label='Cities')\n",
    "zip_airs = zip(*airports)\n",
    "plt.scatter(*zip_airs, marker='*', color='r', s=100, label='Airports')\n",
    "plt.legend()\n",
    "plt"
   ]
  },
  {
   "cell_type": "code",
   "execution_count": 113,
   "metadata": {},
   "outputs": [],
   "source": [
    "\"\"\"method for getting sum of squared distance between two points\"\"\"\n",
    "def getDistance(point1, point2):\n",
    "   return (point1[0] - point2[0])**2 + (point1[1] - point2[1])**2\n",
    "\n",
    "\"\"\"method that takes in the airports as well as the cities \n",
    "   and returns a list containing lists of cities closest to \n",
    "   airport i (note: returned list organized by indexing of airports list\n",
    "   e.g., partitionedCities[0] is the list of cities closest to airport 0) \n",
    "   O(a*c)\"\"\"\n",
    "def partitionCitySet(airports, cities):\n",
    "   partitionedCities = [[] for _ in range(len(airports))]\n",
    "\n",
    "   for city in cities:\n",
    "      airportDistances = []\n",
    "      for airport in airports:\n",
    "         airportDistances.append(getDistance(city, airport))\n",
    "      partitionedCities[airportDistances.index(min(airportDistances))].append(city)\n",
    "\n",
    "   return partitionedCities\n",
    "      \n",
    "\n",
    "# partitionedCities = partitionCitySet(airports, cities)\n",
    "# def test(x,y,z):\n",
    "#    print(len(x), x, end='\\n\\n')\n",
    "#    print(len(y), y, end='\\n\\n')\n",
    "#    print(len(z), z, end='\\n\\n')\n",
    "#    # print(x + y + z)\n",
    "\n",
    "# test(*partitionedCities) "
   ]
  },
  {
   "cell_type": "code",
   "execution_count": 114,
   "metadata": {},
   "outputs": [],
   "source": [
    "import copy\n",
    "\"\"\"Implementation of objective function: O(abc)\"\"\"\n",
    "def objectiveFun(airports, cities):\n",
    "    classifiedCities = partitionCitySet(airports, cities)\n",
    "    objFunStartingVal = 0\n",
    "\n",
    "    for airport in airports:\n",
    "        for cityCluster in classifiedCities:\n",
    "            for city in cityCluster:\n",
    "                objFunStartingVal += getDistance(airport, city)\n",
    "                \n",
    "    return objFunStartingVal\n",
    "\n",
    "'''Implementation of gradient descent\n",
    "   Note: the returned airports that I'm getting are all the same coordinates idk why'''\n",
    "def gDescent(cities, airports, alpha, iterations):\n",
    "    classifiedCities = partitionCitySet(airports, cities)\n",
    "    newAirportCoordinates = []\n",
    "    objectiveFunVals = []\n",
    "    \n",
    "    for _ in range(iterations):\n",
    "        objectiveFunVals.append(objectiveFun(airports, cities))\n",
    "        currentAirport = 0\n",
    "        for airport in airports:\n",
    "            dx = 0\n",
    "            dy = 0\n",
    "            \n",
    "            for city in classifiedCities[currentAirport]:\n",
    "                dx += 2 * (airport[0] - city[0])\n",
    "                dy += 2 * (airport[1] - city[1])\n",
    "            \n",
    "            deltaCoordinates = (dx, dy)\n",
    "            alphaTimesdxdy = tuple(map(lambda value: alpha * value, deltaCoordinates))\n",
    "            newAirportLocation = tuple(map(lambda x,y: x-y, airport, alphaTimesdxdy))\n",
    "            newAirportCoordinates.append(newAirportLocation)\n",
    "            currentAirport += 1\n",
    "            \n",
    "        airports = copy.deepcopy(newAirportCoordinates)\n",
    "        newAirportCoordinates.clear()\n",
    "\n",
    "    return airports, objectiveFunVals\n",
    "\n",
    "# print(f'objective fun before first iteration of gDescent {objectiveFun(airports, cities)}')\n",
    "# newAirports, objFun = gDescent(cities, airports, 0.0069, 50)\n",
    "# print(f'Airport Coordinates: {newAirports}\\nnew objective fun val: {objFun}')\n"
   ]
  },
  {
   "cell_type": "code",
   "execution_count": 115,
   "metadata": {},
   "outputs": [
    {
     "data": {
      "image/png": "[encoded data removed]",
      "text/plain": [
       "<Figure size 432x288 with 1 Axes>"
      ]
     },
     "metadata": {
      "needs_background": "light"
     },
     "output_type": "display_data"
    },
    {
     "data": {
      "image/png": "[encoded data removed]",
      "text/plain": [
       "<Figure size 432x288 with 1 Axes>"
      ]
     },
     "metadata": {
      "needs_background": "light"
     },
     "output_type": "display_data"
    }
   ],
   "source": [
    "def main():\n",
    "    iterations = 50\n",
    "    alpha = 0.0069\n",
    "    airportCoordinates, objectiveFunVals = gDescent(cities, airports, alpha, iterations)\n",
    "    # print(f'New Coordinates of Airports {airportCoordinates}')\n",
    "    # print(f\"Objective function values as a function of iterations: {objectiveFunVals}\")\n",
    "\n",
    "    plt.figure(0)\n",
    "    plt.title(\"Objective values as a function of epoch\")\n",
    "    plt.plot(range(iterations), objectiveFunVals, \"o\" ,color=\"blue\")\n",
    "\n",
    "    plt.figure(1)\n",
    "    # plt.title(\"Optimized airport locations\")\n",
    "    zip_cities = zip(*cities)\n",
    "    plt.scatter(*zip_cities, marker='+', color='b', label='Cities')\n",
    "    zip_airs = zip(*airportCoordinates)\n",
    "    plt.scatter(*zip_airs, marker='*', color='r', s=100, label='Airports')\n",
    "    plt.legend()\n",
    "    plt\n",
    "    \n",
    "\n",
    "main()\n"
   ]
  }
 ],
 "metadata": {
  "kernelspec": {
   "display_name": "Python 3",
   "language": "python",
   "name": "python3"
  },
  "language_info": {
   "codemirror_mode": {
    "name": "ipython",
    "version": 3
   },
   "file_extension": ".py",
   "mimetype": "text/x-python",
   "name": "python",
   "nbconvert_exporter": "python",
   "pygments_lexer": "ipython3",
   "version": "3.8.5"
  }
 },
 "nbformat": 4,
 "nbformat_minor": 2
}
