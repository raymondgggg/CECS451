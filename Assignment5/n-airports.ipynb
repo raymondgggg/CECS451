{
 "cells": [
  {
   "cell_type": "code",
   "execution_count": 42,
   "metadata": {},
   "outputs": [
    {
     "data": {
      "text/plain": [
       "<module 'matplotlib.pyplot' from '/home/raymond/anaconda3/lib/python3.8/site-packages/matplotlib/pyplot.py'>"
      ]
     },
     "execution_count": 42,
     "metadata": {},
     "output_type": "execute_result"
    },
    {
     "data": {
      "image/png": "[encoded data removed]",
      "text/plain": [
       "<Figure size 432x288 with 1 Axes>"
      ]
     },
     "metadata": {
      "needs_background": "light"
     },
     "output_type": "display_data"
    }
   ],
   "source": [
    "import random\n",
    "import numpy as np\n",
    "\n",
    "num_city = 100\n",
    "num_air = 3\n",
    "num_center = 5\n",
    "sigma = 0.1\n",
    "cities = set()\n",
    "airports = []\n",
    "\n",
    "for i in range(num_center):\n",
    "    x = random.random()\n",
    "    y = random.random()\n",
    "    xc = np.random.normal(x, sigma, num_city//num_center)\n",
    "    yc = np.random.normal(y, sigma, num_city//num_center)\n",
    "    cities = cities.union(zip(xc, yc))\n",
    "\n",
    "\n",
    "for i in range(num_air):\n",
    "    x = random.random()\n",
    "    y = random.random()\n",
    "    airports.append((x,y)) \n",
    "\n",
    "import matplotlib.pyplot as plt\n",
    "\n",
    "zip_cities = zip(*cities)\n",
    "plt.scatter(*zip_cities, marker='+',color='b', label='Cities')\n",
    "zip_airs = zip(*airports)\n",
    "plt.scatter(*zip_airs, marker='*', color='r', s=100, label='Airports')\n",
    "plt.legend()\n",
    "plt"
   ]
  },
  {
   "cell_type": "code",
   "execution_count": 45,
   "metadata": {},
   "outputs": [
    {
     "name": "stdout",
     "output_type": "stream",
     "text": [
      "32 [(0.2306486137746103, 0.29293418158453544), (0.04251313201977387, 0.5351545872265714), (0.2769527426777416, 0.08257212026708642), (0.04649923044751181, 0.056737290059804414), (-0.09541680964202282, 0.7042575206140719), (0.12599227849685585, -0.08046900797683737), (0.11875974456478264, 0.19711137734333584), (0.22325826866405435, 0.17952493428640898), (-0.06285221049833659, 0.590911697646377), (-0.05947888082508762, 0.593886213081844), (0.13943201109822945, 0.18431829841423308), (0.13855386482833965, -0.028621866920401834), (0.20478733696741136, 0.23984905324076738), (-0.08588675733597223, 0.007085694748730026), (0.13161825764879292, 0.297388083488642), (0.19551412167262672, 0.4880268352273024), (0.20269544289666383, 0.06039618495388212), (-0.2428364912549522, 0.7004996063498602), (0.21499592869567546, 0.31047598126315823), (0.10113784524859494, 0.13971591055260557), (-0.07774095968774442, 0.523846973156605), (0.1750653242836307, 0.1250017244001214), (0.16804532821917145, -0.005523464230324016), (-0.09233025622882943, 0.49223107478562117), (0.159016855886514, 0.4574654436535674), (0.057648791534333235, 0.007833613045979543), (0.09872508799247347, 0.490245568176058), (-0.01784302299009398, 0.539540927355115), (-0.0402880566121894, 0.6256335918733976), (0.193359600015144, 0.2018887102564021), (0.0039859569730308075, 0.1304949593169648), (0.2742749137094018, 0.1012103773067577)]\n",
      "\n",
      "22 [(0.8996017760908228, 0.7494458291606912), (0.9477583551959821, 0.7242209246225979), (0.548145024834524, 0.8199764441170969), (1.0705123053013281, 0.7550170799862594), (0.9409355252826503, 0.7249673574431058), (0.9873604277553041, 0.7864954015157598), (0.7801475052519106, 1.071603226901006), (0.8387246347406407, 0.8642050037862659), (0.967632067942175, 0.7400194919419109), (0.8684919231055612, 0.6803736707740121), (0.8698768122522327, 0.7578965162114775), (0.8034938509492705, 0.7346755780436618), (0.8937422492094236, 0.7479883927945555), (0.8707041066916591, 0.7189429505128638), (0.9450137700092369, 0.7965745492183472), (0.6298392024854274, 0.8012384863805632), (0.9774773414779834, 0.7927780114643332), (0.9025093093785519, 0.8361477050996486), (0.5545813703243206, 0.6953318293840928), (0.7730667871543879, 0.5622047316654735), (0.8265891002267078, 0.8051389443540198), (0.7103810168062549, 0.7388302662509041)]\n",
      "\n",
      "46 [(0.2769234656306946, 0.5576999111822608), (0.29346937803100676, 0.6244895961524376), (-0.020004187211721952, 0.7552056184272471), (0.298784977737554, 0.6409907935213301), (0.36959708614223935, 0.3612063677630203), (0.3982617598697357, 0.4375876385063262), (0.37547565951345047, 0.6461808419952622), (0.40554219333592095, 0.4744713976146995), (0.19913832497679076, 0.6214089712051573), (0.3538005788814468, 0.47734500288091314), (0.3852921881208091, 0.46943864245578304), (0.44624525326419173, 0.5861718790814372), (0.530209287998928, 0.6750340968617426), (0.5293651142812086, 0.4111025172534148), (0.5205065116541213, 0.5375861035762568), (0.32975506156711, 0.5771658895853373), (0.36081149922963746, 0.5023722078016352), (0.3376385424954838, 0.5477588900691404), (0.399453064130211, 0.6051830007815749), (0.2367701079165742, 0.5737527096838475), (0.16463072565038048, 0.5333496481260054), (0.06753557743787578, 0.7513400188934055), (0.17437606422394308, 0.698192196559336), (0.4758958640152291, 0.6540987882909107), (0.5333286172580143, 0.36007669117774777), (0.3113517606943981, 0.5894928778480988), (0.3945920062735922, 0.6288533091762937), (0.36604508438563776, 0.6905437817493101), (0.2044326168407478, 0.7023012504983409), (-0.0021190925523960104, 0.7448612855543782), (0.03224474989771218, 0.7218877929956573), (0.3662975792017942, 0.5188196039742302), (0.5207974537477277, 0.6494950556094685), (-0.06311160626606824, 0.7197660926095772), (0.33566104238656436, 0.664138300559565), (0.42420180376208433, 0.43074286329047407), (0.3571981271713004, 0.6897531211018433), (0.2962764418761884, 0.7345292010608443), (0.37674235783218957, 0.6304484439622193), (0.020261228114406934, 0.668313289600866), (0.027208028729089152, 0.7169419237908858), (0.5310254599442621, 0.6656908406664015), (0.3672122479610988, 0.6249053421482762), (0.12414308504351537, 0.6737918525233046), (0.4394830432300222, 0.6879585808835134), (0.4608134549700709, 0.5373915336824673)]\n",
      "\n"
     ]
    }
   ],
   "source": [
    "\"\"\"method for getting sum of squared distance between two points\"\"\"\n",
    "def getDistance(point1, point2):\n",
    "   return (point1[0] - point2[0])**2 + (point1[1] - point2[1])**2\n",
    "\n",
    "\"\"\"method that takes in the airports as well as the cities \n",
    "   and returns a list containing lists of cities closest to \n",
    "   airport i (note: returned list organized by indexing of airports list\n",
    "   e.g., partitionedCities[0] is the list of cities closest to airport 0) \n",
    "   O(a*c)\"\"\"\n",
    "def partitionCitySet(airports, cities):\n",
    "   partitionedCities = [[] for _ in range(len(airports))]\n",
    "\n",
    "   for city in cities:\n",
    "      airportDistances = []\n",
    "      for airport in airports:\n",
    "         airportDistances.append(getDistance(city, airport))\n",
    "      partitionedCities[airportDistances.index(min(airportDistances))].append(city)\n",
    "\n",
    "   return partitionedCities\n",
    "      \n",
    "\n",
    "partitionedCities = partitionCitySet(airports, cities)\n",
    "def test(x,y,z):\n",
    "   print(len(x), x, end='\\n\\n')\n",
    "   print(len(y), y, end='\\n\\n')\n",
    "   print(len(z), z, end='\\n\\n')\n",
    "   # print(x + y + z)\n",
    "\n",
    "test(*partitionedCities) "
   ]
  },
  {
   "cell_type": "code",
   "execution_count": 76,
   "metadata": {},
   "outputs": [],
   "source": [
    "\"\"\"Implementation of objective function: O(abc)\"\"\"\n",
    "def objectiveFun(airports, cities):\n",
    "    classifiedCities = partitionCitySet(airports, cities)\n",
    "    objFunStartingVal = 0\n",
    "\n",
    "    for airport in airports:\n",
    "        for cityCluster in classifiedCities:\n",
    "            for city in cityCluster:\n",
    "                objFunStartingVal += getDistance(airport, city)\n",
    "                \n",
    "    return objFunStartingVal\n",
    "\n",
    "'''Implementation of gradient descent'''\n",
    "def gDescent(cities, airports, alpha, iterations):\n",
    "    classifiedCities = partitionCitySet(airports, cities)\n",
    "    newAirportCoordinates = []\n",
    "    objectiveFunVals = []\n",
    "    \n",
    "    for _ in range(iterations):\n",
    "        for airport in airports:\n",
    "            dx = 0\n",
    "            dy = 0\n",
    "            for cityCluster in classifiedCities:\n",
    "                for city in cityCluster:\n",
    "                    dx += 2 * airport[0] - city[0]\n",
    "                    dy += 2 * airport[1] - city[1]\n",
    "            \n",
    "        deltaCoordinates = (dx, dy)\n",
    "        alphaTimesdxdy = tuple(map(lambda value: alpha * value, deltaCoordinates))\n",
    "        newAirportLocation = tuple(map(lambda x,y: x-y, airport, alphaTimesdxdy))\n",
    "        newAirportCoordinates.append(newAirportLocation)\n",
    "        objectiveFunVals.append(objectiveFun(newAirportCoordinates, cities))\n",
    "    \n",
    "    return newAirportCoordinates, objectiveFunVals\n",
    "\n",
    "# print(f'objective fun before first iteration of gDescent {objectiveFun(airports, cities)}')\n",
    "# newAirports, objFun = gDescent(cities, airports, 0.0069)\n",
    "# print(f'Airport Coordinates: {newAirports}\\nnew objective fun val: {objFun}')\n"
   ]
  },
  {
   "cell_type": "code",
   "execution_count": 77,
   "metadata": {},
   "outputs": [
    {
     "name": "stdout",
     "output_type": "stream",
     "text": [
      "New Coordinates of Airports [(0.1330598037637218, 0.14304664480911927), (0.1330598037637218, 0.14304664480911927), (0.1330598037637218, 0.14304664480911927), (0.1330598037637218, 0.14304664480911927), (0.1330598037637218, 0.14304664480911927), (0.1330598037637218, 0.14304664480911927), (0.1330598037637218, 0.14304664480911927), (0.1330598037637218, 0.14304664480911927), (0.1330598037637218, 0.14304664480911927), (0.1330598037637218, 0.14304664480911927), (0.1330598037637218, 0.14304664480911927), (0.1330598037637218, 0.14304664480911927), (0.1330598037637218, 0.14304664480911927), (0.1330598037637218, 0.14304664480911927), (0.1330598037637218, 0.14304664480911927), (0.1330598037637218, 0.14304664480911927), (0.1330598037637218, 0.14304664480911927), (0.1330598037637218, 0.14304664480911927), (0.1330598037637218, 0.14304664480911927), (0.1330598037637218, 0.14304664480911927), (0.1330598037637218, 0.14304664480911927), (0.1330598037637218, 0.14304664480911927), (0.1330598037637218, 0.14304664480911927), (0.1330598037637218, 0.14304664480911927), (0.1330598037637218, 0.14304664480911927), (0.1330598037637218, 0.14304664480911927), (0.1330598037637218, 0.14304664480911927), (0.1330598037637218, 0.14304664480911927), (0.1330598037637218, 0.14304664480911927), (0.1330598037637218, 0.14304664480911927), (0.1330598037637218, 0.14304664480911927), (0.1330598037637218, 0.14304664480911927), (0.1330598037637218, 0.14304664480911927), (0.1330598037637218, 0.14304664480911927), (0.1330598037637218, 0.14304664480911927), (0.1330598037637218, 0.14304664480911927), (0.1330598037637218, 0.14304664480911927), (0.1330598037637218, 0.14304664480911927), (0.1330598037637218, 0.14304664480911927), (0.1330598037637218, 0.14304664480911927), (0.1330598037637218, 0.14304664480911927), (0.1330598037637218, 0.14304664480911927), (0.1330598037637218, 0.14304664480911927), (0.1330598037637218, 0.14304664480911927), (0.1330598037637218, 0.14304664480911927), (0.1330598037637218, 0.14304664480911927), (0.1330598037637218, 0.14304664480911927), (0.1330598037637218, 0.14304664480911927), (0.1330598037637218, 0.14304664480911927), (0.1330598037637218, 0.14304664480911927)]\n",
      "Objective function values as a function of iterations: [36.29447428126361, 72.58894856252724, 108.88342284379084, 145.17789712505447, 181.47237140631805, 217.76684568758162, 254.0613199688452, 290.3557942501087, 326.6502685313722, 362.9447428126357, 399.2392170938992, 435.5336913751627, 471.82816565642617, 508.12263993768966, 544.4171142189532, 580.7115885002169, 617.0060627814805, 653.3005370627442, 689.5950113440078, 725.8894856252715, 762.1839599065352, 798.4784341877988, 834.7729084690625, 871.0673827503261, 907.3618570315898, 943.6563313128535, 979.9508055941171, 1016.2452798753808, 1052.5397541566447, 1088.8342284379082, 1125.1287027191718, 1161.4231770004353, 1197.7176512816989, 1234.0121255629624, 1270.306599844226, 1306.6010741254895, 1342.895548406753, 1379.1900226880166, 1415.4844969692801, 1451.7789712505437, 1488.0734455318072, 1524.3679198130708, 1560.6623940943343, 1596.9568683755979, 1633.2513426568614, 1669.545816938125, 1705.8402912193885, 1742.134765500652, 1778.4292397819156, 1814.7237140631792]\n"
     ]
    }
   ],
   "source": [
    "def main():\n",
    "    iterations = 50\n",
    "    alpha = 0.0069\n",
    "    airportCoordinates, objectiveFunVals = gDescent(cities, airports, alpha, iterations)\n",
    "    print(f'New Coordinates of Airports {airportCoordinates}')\n",
    "    print(f\"Objective function values as a function of iterations: {objectiveFunVals}\")\n",
    "\n",
    "main()"
   ]
  }
 ],
 "metadata": {
  "kernelspec": {
   "display_name": "Python 3",
   "language": "python",
   "name": "python3"
  },
  "language_info": {
   "codemirror_mode": {
    "name": "ipython",
    "version": 3
   },
   "file_extension": ".py",
   "mimetype": "text/x-python",
   "name": "python",
   "nbconvert_exporter": "python",
   "pygments_lexer": "ipython3",
   "version": "3.8.5"
  }
 },
 "nbformat": 4,
 "nbformat_minor": 2
}
